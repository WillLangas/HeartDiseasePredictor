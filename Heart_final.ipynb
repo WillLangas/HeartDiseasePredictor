{
 "cells": [
  {
   "cell_type": "markdown",
   "metadata": {},
   "source": [
    "# Backlog\n",
    "\n",
    "1. Need some data processing on the dataset for the extra 3 points, i think there's another dataset in Kaggle\n",
    "2. Second figure, K Means or clustering or something\n",
    "3. Continue to improve/add complexity to the Logistic regression Pipeline\n",
    "4. Clean up this markdown file with formatting and organization\n",
    "5. Write final report\n",
    "6. Need to specifiy more clearly why outlier detection is going on for cholesterol, justify myself"
   ]
  },
  {
   "cell_type": "markdown",
   "metadata": {},
   "source": [
    "## Data Source:\n",
    "https://archive.ics.uci.edu/ml/datasets/Heart+Disease"
   ]
  },
  {
   "cell_type": "code",
   "execution_count": 2,
   "metadata": {},
   "outputs": [],
   "source": [
    "import pandas as pd\n",
    "import matplotlib.pyplot as plt\n",
    "import numpy as np\n",
    "from sklearn.linear_model import LogisticRegression\n",
    "from sklearn.model_selection import train_test_split\n",
    "from sklearn.preprocessing import StandardScaler\n",
    "from sklearn.pipeline import Pipeline\n",
    "from sklearn.model_selection import cross_val_score, permutation_test_score\n",
    "from sklearn.cluster import KMeans"
   ]
  },
  {
   "cell_type": "code",
   "execution_count": 15,
   "metadata": {},
   "outputs": [],
   "source": [
    "plt.rcParams['font.size'] = '12'"
   ]
  },
  {
   "cell_type": "code",
   "execution_count": 16,
   "metadata": {},
   "outputs": [
    {
     "name": "stdout",
     "output_type": "stream",
     "text": [
      "Number of Datapoints:  296\n"
     ]
    },
    {
     "data": {
      "text/html": [
       "<div>\n",
       "<style scoped>\n",
       "    .dataframe tbody tr th:only-of-type {\n",
       "        vertical-align: middle;\n",
       "    }\n",
       "\n",
       "    .dataframe tbody tr th {\n",
       "        vertical-align: top;\n",
       "    }\n",
       "\n",
       "    .dataframe thead th {\n",
       "        text-align: right;\n",
       "    }\n",
       "</style>\n",
       "<table border=\"1\" class=\"dataframe\">\n",
       "  <thead>\n",
       "    <tr style=\"text-align: right;\">\n",
       "      <th></th>\n",
       "      <th>63.0</th>\n",
       "      <th>1.0</th>\n",
       "      <th>1.0.1</th>\n",
       "      <th>145.0</th>\n",
       "      <th>233.0</th>\n",
       "      <th>1.0.2</th>\n",
       "      <th>2.0</th>\n",
       "      <th>150.0</th>\n",
       "      <th>0.0</th>\n",
       "      <th>2.3</th>\n",
       "      <th>3.0</th>\n",
       "      <th>0.0.1</th>\n",
       "      <th>6.0</th>\n",
       "      <th>0</th>\n",
       "    </tr>\n",
       "  </thead>\n",
       "  <tbody>\n",
       "    <tr>\n",
       "      <th>0</th>\n",
       "      <td>67.0</td>\n",
       "      <td>1.0</td>\n",
       "      <td>4.0</td>\n",
       "      <td>160.0</td>\n",
       "      <td>286.0</td>\n",
       "      <td>0.0</td>\n",
       "      <td>2.0</td>\n",
       "      <td>108.0</td>\n",
       "      <td>1.0</td>\n",
       "      <td>1.5</td>\n",
       "      <td>2.0</td>\n",
       "      <td>3.0</td>\n",
       "      <td>3.0</td>\n",
       "      <td>2</td>\n",
       "    </tr>\n",
       "    <tr>\n",
       "      <th>1</th>\n",
       "      <td>67.0</td>\n",
       "      <td>1.0</td>\n",
       "      <td>4.0</td>\n",
       "      <td>120.0</td>\n",
       "      <td>229.0</td>\n",
       "      <td>0.0</td>\n",
       "      <td>2.0</td>\n",
       "      <td>129.0</td>\n",
       "      <td>1.0</td>\n",
       "      <td>2.6</td>\n",
       "      <td>2.0</td>\n",
       "      <td>2.0</td>\n",
       "      <td>7.0</td>\n",
       "      <td>1</td>\n",
       "    </tr>\n",
       "    <tr>\n",
       "      <th>2</th>\n",
       "      <td>37.0</td>\n",
       "      <td>1.0</td>\n",
       "      <td>3.0</td>\n",
       "      <td>130.0</td>\n",
       "      <td>250.0</td>\n",
       "      <td>0.0</td>\n",
       "      <td>0.0</td>\n",
       "      <td>187.0</td>\n",
       "      <td>0.0</td>\n",
       "      <td>3.5</td>\n",
       "      <td>3.0</td>\n",
       "      <td>0.0</td>\n",
       "      <td>3.0</td>\n",
       "      <td>0</td>\n",
       "    </tr>\n",
       "    <tr>\n",
       "      <th>3</th>\n",
       "      <td>41.0</td>\n",
       "      <td>0.0</td>\n",
       "      <td>2.0</td>\n",
       "      <td>130.0</td>\n",
       "      <td>204.0</td>\n",
       "      <td>0.0</td>\n",
       "      <td>2.0</td>\n",
       "      <td>172.0</td>\n",
       "      <td>0.0</td>\n",
       "      <td>1.4</td>\n",
       "      <td>1.0</td>\n",
       "      <td>0.0</td>\n",
       "      <td>3.0</td>\n",
       "      <td>0</td>\n",
       "    </tr>\n",
       "    <tr>\n",
       "      <th>4</th>\n",
       "      <td>56.0</td>\n",
       "      <td>1.0</td>\n",
       "      <td>2.0</td>\n",
       "      <td>120.0</td>\n",
       "      <td>236.0</td>\n",
       "      <td>0.0</td>\n",
       "      <td>0.0</td>\n",
       "      <td>178.0</td>\n",
       "      <td>0.0</td>\n",
       "      <td>0.8</td>\n",
       "      <td>1.0</td>\n",
       "      <td>0.0</td>\n",
       "      <td>3.0</td>\n",
       "      <td>0</td>\n",
       "    </tr>\n",
       "  </tbody>\n",
       "</table>\n",
       "</div>"
      ],
      "text/plain": [
       "   63.0  1.0  1.0.1  145.0  233.0  1.0.2  2.0  150.0  0.0  2.3  3.0  0.0.1  \\\n",
       "0  67.0  1.0    4.0  160.0  286.0    0.0  2.0  108.0  1.0  1.5  2.0    3.0   \n",
       "1  67.0  1.0    4.0  120.0  229.0    0.0  2.0  129.0  1.0  2.6  2.0    2.0   \n",
       "2  37.0  1.0    3.0  130.0  250.0    0.0  0.0  187.0  0.0  3.5  3.0    0.0   \n",
       "3  41.0  0.0    2.0  130.0  204.0    0.0  2.0  172.0  0.0  1.4  1.0    0.0   \n",
       "4  56.0  1.0    2.0  120.0  236.0    0.0  0.0  178.0  0.0  0.8  1.0    0.0   \n",
       "\n",
       "   6.0  0  \n",
       "0  3.0  2  \n",
       "1  7.0  1  \n",
       "2  3.0  0  \n",
       "3  3.0  0  \n",
       "4  3.0  0  "
      ]
     },
     "execution_count": 16,
     "metadata": {},
     "output_type": "execute_result"
    }
   ],
   "source": [
    "# https://stackoverflow.com/questions/51752298/seeking-a-faster-way-to-drop-all-placeholders-from-pandas-dataframe\n",
    "# https://towardsdatascience.com/how-to-use-data-files-from-uci-68b740b4719d\n",
    "\n",
    "df =  pd.read_csv('processed.cleveland.data', sep=\",\", na_values=[\"?\"])\n",
    "orig_cols = df.columns\n",
    "df = df.dropna()\n",
    "\n",
    "print(\"Number of Datapoints: \", len(df))\n",
    "df.head()"
   ]
  },
  {
   "cell_type": "markdown",
   "metadata": {},
   "source": [
    "As seen above, the data is currently in a very confusing format, since the column names are represented as values instead of their actual meaning, thus, we will rename the columns in the following cell"
   ]
  },
  {
   "cell_type": "code",
   "execution_count": 17,
   "metadata": {},
   "outputs": [
    {
     "data": {
      "text/html": [
       "<div>\n",
       "<style scoped>\n",
       "    .dataframe tbody tr th:only-of-type {\n",
       "        vertical-align: middle;\n",
       "    }\n",
       "\n",
       "    .dataframe tbody tr th {\n",
       "        vertical-align: top;\n",
       "    }\n",
       "\n",
       "    .dataframe thead th {\n",
       "        text-align: right;\n",
       "    }\n",
       "</style>\n",
       "<table border=\"1\" class=\"dataframe\">\n",
       "  <thead>\n",
       "    <tr style=\"text-align: right;\">\n",
       "      <th></th>\n",
       "      <th>Age</th>\n",
       "      <th>Sex</th>\n",
       "      <th>Chest Pain</th>\n",
       "      <th>Rest BP</th>\n",
       "      <th>Chol</th>\n",
       "      <th>Blood Sugar</th>\n",
       "      <th>Rest ECG</th>\n",
       "      <th>Max HR</th>\n",
       "      <th>Exercise</th>\n",
       "      <th>Peak</th>\n",
       "      <th>Slope</th>\n",
       "      <th>Vessels</th>\n",
       "      <th>Thal</th>\n",
       "      <th>Output</th>\n",
       "    </tr>\n",
       "  </thead>\n",
       "  <tbody>\n",
       "    <tr>\n",
       "      <th>0</th>\n",
       "      <td>67.0</td>\n",
       "      <td>1.0</td>\n",
       "      <td>4.0</td>\n",
       "      <td>160.0</td>\n",
       "      <td>286.0</td>\n",
       "      <td>0.0</td>\n",
       "      <td>2.0</td>\n",
       "      <td>108.0</td>\n",
       "      <td>1.0</td>\n",
       "      <td>1.5</td>\n",
       "      <td>2.0</td>\n",
       "      <td>3.0</td>\n",
       "      <td>3.0</td>\n",
       "      <td>2</td>\n",
       "    </tr>\n",
       "    <tr>\n",
       "      <th>1</th>\n",
       "      <td>67.0</td>\n",
       "      <td>1.0</td>\n",
       "      <td>4.0</td>\n",
       "      <td>120.0</td>\n",
       "      <td>229.0</td>\n",
       "      <td>0.0</td>\n",
       "      <td>2.0</td>\n",
       "      <td>129.0</td>\n",
       "      <td>1.0</td>\n",
       "      <td>2.6</td>\n",
       "      <td>2.0</td>\n",
       "      <td>2.0</td>\n",
       "      <td>7.0</td>\n",
       "      <td>1</td>\n",
       "    </tr>\n",
       "    <tr>\n",
       "      <th>2</th>\n",
       "      <td>37.0</td>\n",
       "      <td>1.0</td>\n",
       "      <td>3.0</td>\n",
       "      <td>130.0</td>\n",
       "      <td>250.0</td>\n",
       "      <td>0.0</td>\n",
       "      <td>0.0</td>\n",
       "      <td>187.0</td>\n",
       "      <td>0.0</td>\n",
       "      <td>3.5</td>\n",
       "      <td>3.0</td>\n",
       "      <td>0.0</td>\n",
       "      <td>3.0</td>\n",
       "      <td>0</td>\n",
       "    </tr>\n",
       "    <tr>\n",
       "      <th>3</th>\n",
       "      <td>41.0</td>\n",
       "      <td>0.0</td>\n",
       "      <td>2.0</td>\n",
       "      <td>130.0</td>\n",
       "      <td>204.0</td>\n",
       "      <td>0.0</td>\n",
       "      <td>2.0</td>\n",
       "      <td>172.0</td>\n",
       "      <td>0.0</td>\n",
       "      <td>1.4</td>\n",
       "      <td>1.0</td>\n",
       "      <td>0.0</td>\n",
       "      <td>3.0</td>\n",
       "      <td>0</td>\n",
       "    </tr>\n",
       "    <tr>\n",
       "      <th>4</th>\n",
       "      <td>56.0</td>\n",
       "      <td>1.0</td>\n",
       "      <td>2.0</td>\n",
       "      <td>120.0</td>\n",
       "      <td>236.0</td>\n",
       "      <td>0.0</td>\n",
       "      <td>0.0</td>\n",
       "      <td>178.0</td>\n",
       "      <td>0.0</td>\n",
       "      <td>0.8</td>\n",
       "      <td>1.0</td>\n",
       "      <td>0.0</td>\n",
       "      <td>3.0</td>\n",
       "      <td>0</td>\n",
       "    </tr>\n",
       "  </tbody>\n",
       "</table>\n",
       "</div>"
      ],
      "text/plain": [
       "    Age  Sex  Chest Pain  Rest BP   Chol  Blood Sugar  Rest ECG  Max HR  \\\n",
       "0  67.0  1.0         4.0    160.0  286.0          0.0       2.0   108.0   \n",
       "1  67.0  1.0         4.0    120.0  229.0          0.0       2.0   129.0   \n",
       "2  37.0  1.0         3.0    130.0  250.0          0.0       0.0   187.0   \n",
       "3  41.0  0.0         2.0    130.0  204.0          0.0       2.0   172.0   \n",
       "4  56.0  1.0         2.0    120.0  236.0          0.0       0.0   178.0   \n",
       "\n",
       "   Exercise  Peak  Slope  Vessels  Thal  Output  \n",
       "0       1.0   1.5    2.0      3.0   3.0       2  \n",
       "1       1.0   2.6    2.0      2.0   7.0       1  \n",
       "2       0.0   3.5    3.0      0.0   3.0       0  \n",
       "3       0.0   1.4    1.0      0.0   3.0       0  \n",
       "4       0.0   0.8    1.0      0.0   3.0       0  "
      ]
     },
     "execution_count": 17,
     "metadata": {},
     "output_type": "execute_result"
    }
   ],
   "source": [
    "df[\"Age\"] = df[\"63.0\"]\n",
    "df[\"Sex\"] = df[\"1.0\"]\n",
    "df[\"Chest Pain\"] = df[\"1.0.1\"]\n",
    "df[\"Rest BP\"] = df[\"145.0\"]\n",
    "df[\"Chol\"] = df[\"233.0\"]\n",
    "df[\"Blood Sugar\"] = df[\"1.0.2\"]\n",
    "df[\"Rest ECG\"] = df[\"2.0\"]\n",
    "df[\"Max HR\"] = df[\"150.0\"]\n",
    "df[\"Exercise\"] = df[\"0.0\"]\n",
    "df[\"Peak\"] = df[\"2.3\"]\n",
    "df[\"Slope\"] = df[\"3.0\"]\n",
    "df[\"Vessels\"] = df[\"0.0.1\"]\n",
    "df[\"Thal\"] = df[\"6.0\"]\n",
    "df[\"Output\"] = df[\"0\"]\n",
    "\n",
    "df = df.drop(columns = orig_cols)\n",
    "df.head()"
   ]
  },
  {
   "cell_type": "markdown",
   "metadata": {},
   "source": [
    "Our analysis is simply looking for the presence of heart disease, not the types of heart disease, therefore we will alter the data so the any value 0-4 is either a 0 or 1. As according to the critiria stated in the original dataset:\n",
    "\n",
    "\"58 num: diagnosis of heart disease (angiographic disease status)\n",
    "-- Value 0: < 50% diameter narrowing\n",
    "-- Value 1: > 50% diameter narrowing\""
   ]
  },
  {
   "cell_type": "code",
   "execution_count": 18,
   "metadata": {},
   "outputs": [],
   "source": [
    "df.loc[df['Output'] > 0, 'Output'] = 1 \n",
    "df.loc[df['Output'] == 0, 'Output'] = 0 "
   ]
  },
  {
   "cell_type": "markdown",
   "metadata": {},
   "source": [
    "## Outlier Testing and Filtering"
   ]
  },
  {
   "cell_type": "code",
   "execution_count": 19,
   "metadata": {},
   "outputs": [
    {
     "data": {
      "text/html": [
       "<div>\n",
       "<style scoped>\n",
       "    .dataframe tbody tr th:only-of-type {\n",
       "        vertical-align: middle;\n",
       "    }\n",
       "\n",
       "    .dataframe tbody tr th {\n",
       "        vertical-align: top;\n",
       "    }\n",
       "\n",
       "    .dataframe thead th {\n",
       "        text-align: right;\n",
       "    }\n",
       "</style>\n",
       "<table border=\"1\" class=\"dataframe\">\n",
       "  <thead>\n",
       "    <tr style=\"text-align: right;\">\n",
       "      <th></th>\n",
       "      <th>Age</th>\n",
       "      <th>Sex</th>\n",
       "      <th>Chest Pain</th>\n",
       "      <th>Rest BP</th>\n",
       "      <th>Chol</th>\n",
       "      <th>Blood Sugar</th>\n",
       "      <th>Rest ECG</th>\n",
       "      <th>Max HR</th>\n",
       "      <th>Exercise</th>\n",
       "      <th>Peak</th>\n",
       "      <th>Slope</th>\n",
       "      <th>Vessels</th>\n",
       "      <th>Thal</th>\n",
       "      <th>Output</th>\n",
       "    </tr>\n",
       "  </thead>\n",
       "  <tbody>\n",
       "    <tr>\n",
       "      <th>count</th>\n",
       "      <td>296.000000</td>\n",
       "      <td>296.000000</td>\n",
       "      <td>296.000000</td>\n",
       "      <td>296.000000</td>\n",
       "      <td>296.000000</td>\n",
       "      <td>296.000000</td>\n",
       "      <td>296.000000</td>\n",
       "      <td>296.000000</td>\n",
       "      <td>296.000000</td>\n",
       "      <td>296.000000</td>\n",
       "      <td>296.000000</td>\n",
       "      <td>296.000000</td>\n",
       "      <td>296.000000</td>\n",
       "      <td>296.000000</td>\n",
       "    </tr>\n",
       "    <tr>\n",
       "      <th>mean</th>\n",
       "      <td>54.513514</td>\n",
       "      <td>0.675676</td>\n",
       "      <td>3.165541</td>\n",
       "      <td>131.648649</td>\n",
       "      <td>247.398649</td>\n",
       "      <td>0.141892</td>\n",
       "      <td>0.993243</td>\n",
       "      <td>149.597973</td>\n",
       "      <td>0.327703</td>\n",
       "      <td>1.051351</td>\n",
       "      <td>1.597973</td>\n",
       "      <td>0.679054</td>\n",
       "      <td>4.726351</td>\n",
       "      <td>0.462838</td>\n",
       "    </tr>\n",
       "    <tr>\n",
       "      <th>std</th>\n",
       "      <td>9.051631</td>\n",
       "      <td>0.468915</td>\n",
       "      <td>0.958262</td>\n",
       "      <td>17.775956</td>\n",
       "      <td>52.078915</td>\n",
       "      <td>0.349530</td>\n",
       "      <td>0.994879</td>\n",
       "      <td>22.980401</td>\n",
       "      <td>0.470171</td>\n",
       "      <td>1.165841</td>\n",
       "      <td>0.613848</td>\n",
       "      <td>0.939726</td>\n",
       "      <td>1.940500</td>\n",
       "      <td>0.499461</td>\n",
       "    </tr>\n",
       "    <tr>\n",
       "      <th>min</th>\n",
       "      <td>29.000000</td>\n",
       "      <td>0.000000</td>\n",
       "      <td>1.000000</td>\n",
       "      <td>94.000000</td>\n",
       "      <td>126.000000</td>\n",
       "      <td>0.000000</td>\n",
       "      <td>0.000000</td>\n",
       "      <td>71.000000</td>\n",
       "      <td>0.000000</td>\n",
       "      <td>0.000000</td>\n",
       "      <td>1.000000</td>\n",
       "      <td>0.000000</td>\n",
       "      <td>3.000000</td>\n",
       "      <td>0.000000</td>\n",
       "    </tr>\n",
       "    <tr>\n",
       "      <th>25%</th>\n",
       "      <td>48.000000</td>\n",
       "      <td>0.000000</td>\n",
       "      <td>3.000000</td>\n",
       "      <td>120.000000</td>\n",
       "      <td>211.000000</td>\n",
       "      <td>0.000000</td>\n",
       "      <td>0.000000</td>\n",
       "      <td>133.000000</td>\n",
       "      <td>0.000000</td>\n",
       "      <td>0.000000</td>\n",
       "      <td>1.000000</td>\n",
       "      <td>0.000000</td>\n",
       "      <td>3.000000</td>\n",
       "      <td>0.000000</td>\n",
       "    </tr>\n",
       "    <tr>\n",
       "      <th>50%</th>\n",
       "      <td>56.000000</td>\n",
       "      <td>1.000000</td>\n",
       "      <td>3.000000</td>\n",
       "      <td>130.000000</td>\n",
       "      <td>243.000000</td>\n",
       "      <td>0.000000</td>\n",
       "      <td>1.000000</td>\n",
       "      <td>153.000000</td>\n",
       "      <td>0.000000</td>\n",
       "      <td>0.800000</td>\n",
       "      <td>2.000000</td>\n",
       "      <td>0.000000</td>\n",
       "      <td>3.000000</td>\n",
       "      <td>0.000000</td>\n",
       "    </tr>\n",
       "    <tr>\n",
       "      <th>75%</th>\n",
       "      <td>61.000000</td>\n",
       "      <td>1.000000</td>\n",
       "      <td>4.000000</td>\n",
       "      <td>140.000000</td>\n",
       "      <td>276.250000</td>\n",
       "      <td>0.000000</td>\n",
       "      <td>2.000000</td>\n",
       "      <td>166.000000</td>\n",
       "      <td>1.000000</td>\n",
       "      <td>1.600000</td>\n",
       "      <td>2.000000</td>\n",
       "      <td>1.000000</td>\n",
       "      <td>7.000000</td>\n",
       "      <td>1.000000</td>\n",
       "    </tr>\n",
       "    <tr>\n",
       "      <th>max</th>\n",
       "      <td>77.000000</td>\n",
       "      <td>1.000000</td>\n",
       "      <td>4.000000</td>\n",
       "      <td>200.000000</td>\n",
       "      <td>564.000000</td>\n",
       "      <td>1.000000</td>\n",
       "      <td>2.000000</td>\n",
       "      <td>202.000000</td>\n",
       "      <td>1.000000</td>\n",
       "      <td>6.200000</td>\n",
       "      <td>3.000000</td>\n",
       "      <td>3.000000</td>\n",
       "      <td>7.000000</td>\n",
       "      <td>1.000000</td>\n",
       "    </tr>\n",
       "  </tbody>\n",
       "</table>\n",
       "</div>"
      ],
      "text/plain": [
       "              Age         Sex  Chest Pain     Rest BP        Chol  \\\n",
       "count  296.000000  296.000000  296.000000  296.000000  296.000000   \n",
       "mean    54.513514    0.675676    3.165541  131.648649  247.398649   \n",
       "std      9.051631    0.468915    0.958262   17.775956   52.078915   \n",
       "min     29.000000    0.000000    1.000000   94.000000  126.000000   \n",
       "25%     48.000000    0.000000    3.000000  120.000000  211.000000   \n",
       "50%     56.000000    1.000000    3.000000  130.000000  243.000000   \n",
       "75%     61.000000    1.000000    4.000000  140.000000  276.250000   \n",
       "max     77.000000    1.000000    4.000000  200.000000  564.000000   \n",
       "\n",
       "       Blood Sugar    Rest ECG      Max HR    Exercise        Peak  \\\n",
       "count   296.000000  296.000000  296.000000  296.000000  296.000000   \n",
       "mean      0.141892    0.993243  149.597973    0.327703    1.051351   \n",
       "std       0.349530    0.994879   22.980401    0.470171    1.165841   \n",
       "min       0.000000    0.000000   71.000000    0.000000    0.000000   \n",
       "25%       0.000000    0.000000  133.000000    0.000000    0.000000   \n",
       "50%       0.000000    1.000000  153.000000    0.000000    0.800000   \n",
       "75%       0.000000    2.000000  166.000000    1.000000    1.600000   \n",
       "max       1.000000    2.000000  202.000000    1.000000    6.200000   \n",
       "\n",
       "            Slope     Vessels        Thal      Output  \n",
       "count  296.000000  296.000000  296.000000  296.000000  \n",
       "mean     1.597973    0.679054    4.726351    0.462838  \n",
       "std      0.613848    0.939726    1.940500    0.499461  \n",
       "min      1.000000    0.000000    3.000000    0.000000  \n",
       "25%      1.000000    0.000000    3.000000    0.000000  \n",
       "50%      2.000000    0.000000    3.000000    0.000000  \n",
       "75%      2.000000    1.000000    7.000000    1.000000  \n",
       "max      3.000000    3.000000    7.000000    1.000000  "
      ]
     },
     "execution_count": 19,
     "metadata": {},
     "output_type": "execute_result"
    }
   ],
   "source": [
    "info = df.describe()\n",
    "info"
   ]
  },
  {
   "cell_type": "markdown",
   "metadata": {},
   "source": [
    "- In the Cholesterol column, we see that the maximum value is 564, versus an average of ~250. In the following section we will perform analysis to determine if there are outliers, and filter accordingly in the Cholesterol column\n",
    "- We will only do this in Cholesterol column, since 564 is more than two times what is considered \"High\" cholesterol, and there are most likely other factors at play here that could skew analysis\n",
    "https://www.cnn.com/2009/HEALTH/11/24/moh.healthmag.cholesterol.surprises/index.html"
   ]
  },
  {
   "cell_type": "code",
   "execution_count": 20,
   "metadata": {},
   "outputs": [
    {
     "name": "stdout",
     "output_type": "stream",
     "text": [
      "Number of Datapoints:  291\n"
     ]
    },
    {
     "data": {
      "text/html": [
       "<div>\n",
       "<style scoped>\n",
       "    .dataframe tbody tr th:only-of-type {\n",
       "        vertical-align: middle;\n",
       "    }\n",
       "\n",
       "    .dataframe tbody tr th {\n",
       "        vertical-align: top;\n",
       "    }\n",
       "\n",
       "    .dataframe thead th {\n",
       "        text-align: right;\n",
       "    }\n",
       "</style>\n",
       "<table border=\"1\" class=\"dataframe\">\n",
       "  <thead>\n",
       "    <tr style=\"text-align: right;\">\n",
       "      <th></th>\n",
       "      <th>Age</th>\n",
       "      <th>Sex</th>\n",
       "      <th>Chest Pain</th>\n",
       "      <th>Rest BP</th>\n",
       "      <th>Chol</th>\n",
       "      <th>Blood Sugar</th>\n",
       "      <th>Rest ECG</th>\n",
       "      <th>Max HR</th>\n",
       "      <th>Exercise</th>\n",
       "      <th>Peak</th>\n",
       "      <th>Slope</th>\n",
       "      <th>Vessels</th>\n",
       "      <th>Thal</th>\n",
       "      <th>Output</th>\n",
       "    </tr>\n",
       "  </thead>\n",
       "  <tbody>\n",
       "    <tr>\n",
       "      <th>0</th>\n",
       "      <td>67.0</td>\n",
       "      <td>1.0</td>\n",
       "      <td>4.0</td>\n",
       "      <td>160.0</td>\n",
       "      <td>286.0</td>\n",
       "      <td>0.0</td>\n",
       "      <td>2.0</td>\n",
       "      <td>108.0</td>\n",
       "      <td>1.0</td>\n",
       "      <td>1.5</td>\n",
       "      <td>2.0</td>\n",
       "      <td>3.0</td>\n",
       "      <td>3.0</td>\n",
       "      <td>1</td>\n",
       "    </tr>\n",
       "    <tr>\n",
       "      <th>1</th>\n",
       "      <td>67.0</td>\n",
       "      <td>1.0</td>\n",
       "      <td>4.0</td>\n",
       "      <td>120.0</td>\n",
       "      <td>229.0</td>\n",
       "      <td>0.0</td>\n",
       "      <td>2.0</td>\n",
       "      <td>129.0</td>\n",
       "      <td>1.0</td>\n",
       "      <td>2.6</td>\n",
       "      <td>2.0</td>\n",
       "      <td>2.0</td>\n",
       "      <td>7.0</td>\n",
       "      <td>1</td>\n",
       "    </tr>\n",
       "    <tr>\n",
       "      <th>2</th>\n",
       "      <td>37.0</td>\n",
       "      <td>1.0</td>\n",
       "      <td>3.0</td>\n",
       "      <td>130.0</td>\n",
       "      <td>250.0</td>\n",
       "      <td>0.0</td>\n",
       "      <td>0.0</td>\n",
       "      <td>187.0</td>\n",
       "      <td>0.0</td>\n",
       "      <td>3.5</td>\n",
       "      <td>3.0</td>\n",
       "      <td>0.0</td>\n",
       "      <td>3.0</td>\n",
       "      <td>0</td>\n",
       "    </tr>\n",
       "    <tr>\n",
       "      <th>3</th>\n",
       "      <td>41.0</td>\n",
       "      <td>0.0</td>\n",
       "      <td>2.0</td>\n",
       "      <td>130.0</td>\n",
       "      <td>204.0</td>\n",
       "      <td>0.0</td>\n",
       "      <td>2.0</td>\n",
       "      <td>172.0</td>\n",
       "      <td>0.0</td>\n",
       "      <td>1.4</td>\n",
       "      <td>1.0</td>\n",
       "      <td>0.0</td>\n",
       "      <td>3.0</td>\n",
       "      <td>0</td>\n",
       "    </tr>\n",
       "    <tr>\n",
       "      <th>4</th>\n",
       "      <td>56.0</td>\n",
       "      <td>1.0</td>\n",
       "      <td>2.0</td>\n",
       "      <td>120.0</td>\n",
       "      <td>236.0</td>\n",
       "      <td>0.0</td>\n",
       "      <td>0.0</td>\n",
       "      <td>178.0</td>\n",
       "      <td>0.0</td>\n",
       "      <td>0.8</td>\n",
       "      <td>1.0</td>\n",
       "      <td>0.0</td>\n",
       "      <td>3.0</td>\n",
       "      <td>0</td>\n",
       "    </tr>\n",
       "  </tbody>\n",
       "</table>\n",
       "</div>"
      ],
      "text/plain": [
       "    Age  Sex  Chest Pain  Rest BP   Chol  Blood Sugar  Rest ECG  Max HR  \\\n",
       "0  67.0  1.0         4.0    160.0  286.0          0.0       2.0   108.0   \n",
       "1  67.0  1.0         4.0    120.0  229.0          0.0       2.0   129.0   \n",
       "2  37.0  1.0         3.0    130.0  250.0          0.0       0.0   187.0   \n",
       "3  41.0  0.0         2.0    130.0  204.0          0.0       2.0   172.0   \n",
       "4  56.0  1.0         2.0    120.0  236.0          0.0       0.0   178.0   \n",
       "\n",
       "   Exercise  Peak  Slope  Vessels  Thal  Output  \n",
       "0       1.0   1.5    2.0      3.0   3.0       1  \n",
       "1       1.0   2.6    2.0      2.0   7.0       1  \n",
       "2       0.0   3.5    3.0      0.0   3.0       0  \n",
       "3       0.0   1.4    1.0      0.0   3.0       0  \n",
       "4       0.0   0.8    1.0      0.0   3.0       0  "
      ]
     },
     "execution_count": 20,
     "metadata": {},
     "output_type": "execute_result"
    }
   ],
   "source": [
    "# https://www.thoughtco.com/what-is-the-interquartile-range-rule-3126244\n",
    "\n",
    "IQR = df[\"Chol\"].quantile(0.75) - df[\"Chol\"].quantile(0.25)\n",
    "\n",
    "max_chol = (1.5 * IQR) + df[\"Chol\"].quantile(0.75)\n",
    "min_chol = df[\"Chol\"].quantile(0.25) - (1.5 * IQR) \n",
    "\n",
    "df = df[df[\"Chol\"] <= max_chol]\n",
    "df = df[df[\"Chol\"] >= min_chol]\n",
    "\n",
    "print(\"Number of Datapoints: \", len(df))\n",
    "df.head()"
   ]
  },
  {
   "cell_type": "markdown",
   "metadata": {},
   "source": [
    "## Dataset Information"
   ]
  },
  {
   "cell_type": "code",
   "execution_count": 21,
   "metadata": {},
   "outputs": [
    {
     "data": {
      "image/png": "[encoded data removed]",
      "text/plain": [
       "<Figure size 432x288 with 1 Axes>"
      ]
     },
     "metadata": {
      "needs_background": "light"
     },
     "output_type": "display_data"
    }
   ],
   "source": [
    "disease = df[df[\"Output\"] == 1]\n",
    "no_disease = df[df[\"Output\"] == 0]\n",
    "\n",
    "labels = ['Disease', 'No Disease']\n",
    "men_vals = [len(disease[disease[\"Sex\"] == 1]), len(no_disease[no_disease[\"Sex\"] == 1])]\n",
    "women_vals = [len(disease[disease[\"Sex\"] == 0]), len(no_disease[no_disease[\"Sex\"] == 0])]\n",
    "\n",
    "x = np.arange(len(labels))  # the label locations\n",
    "width = 0.35  # the width of the bars\n",
    "\n",
    "fig, ax = plt.subplots()\n",
    "rects1 = ax.bar(x - width/2, men_vals, width, label='Men', color=\"deepskyblue\")\n",
    "rects2 = ax.bar(x + width/2, women_vals, width, label='Women', color=\"lightpink\")\n",
    "\n",
    "# Add some text for labels, title and custom x-axis tick labels, etc.\n",
    "ax.set_ylabel('Count')\n",
    "ax.set_title('Distribution by Disease and Gender')\n",
    "ax.set_xticks(x)\n",
    "ax.set_xticklabels(labels)\n",
    "ax.legend()\n",
    "\n",
    "fig.tight_layout()\n",
    "plt.show()"
   ]
  },
  {
   "cell_type": "code",
   "execution_count": 22,
   "metadata": {},
   "outputs": [
    {
     "name": "stdout",
     "output_type": "stream",
     "text": [
      "Men with disease:  38.49\n",
      "Men without disease:  30.24\n",
      "\n",
      "Women with disease:  7.9\n",
      "Women without disease:  23.37\n"
     ]
    }
   ],
   "source": [
    "print(\"Men with disease: \", (round((len(disease[disease[\"Sex\"] == 1]) / len(df)) * 100, 2)))\n",
    "print(\"Men without disease: \", (round((len(no_disease[no_disease[\"Sex\"] == 1]) / len(df)) * 100, 2)))\n",
    "print()\n",
    "print(\"Women with disease: \", (round((len(disease[disease[\"Sex\"] == 0]) / len(df)) * 100, 2)))\n",
    "print(\"Women without disease: \", (round((len(no_disease[no_disease[\"Sex\"] == 0]) / len(df)) * 100, 2)))"
   ]
  },
  {
   "cell_type": "markdown",
   "metadata": {},
   "source": [
    "## Preparation for Model Training"
   ]
  },
  {
   "cell_type": "code",
   "execution_count": 23,
   "metadata": {},
   "outputs": [],
   "source": [
    "train, test = train_test_split(df)"
   ]
  },
  {
   "cell_type": "code",
   "execution_count": 24,
   "metadata": {},
   "outputs": [],
   "source": [
    "data_columns = [\"Age\", \"Sex\", \"Chest Pain\", \"Rest BP\", \"Chol\", \n",
    "                \"Blood Sugar\", \"Rest ECG\", \"Max HR\", \"Exercise\", \n",
    "                \"Peak\", \"Slope\", \"Vessels\", \"Thal\"]\n",
    "\n",
    "y = \"Output\""
   ]
  },
  {
   "cell_type": "markdown",
   "metadata": {},
   "source": [
    "# Figure 1"
   ]
  },
  {
   "cell_type": "code",
   "execution_count": 25,
   "metadata": {},
   "outputs": [
    {
     "data": {
      "text/plain": [
       "<matplotlib.legend.Legend at 0x7fb28b880970>"
      ]
     },
     "execution_count": 25,
     "metadata": {},
     "output_type": "execute_result"
    },
    {
     "data": {
      "image/png": "[encoded data removed]",
      "text/plain": [
       "<Figure size 648x432 with 1 Axes>"
      ]
     },
     "metadata": {
      "needs_background": "light"
     },
     "output_type": "display_data"
    }
   ],
   "source": [
    "male = df[df['Sex'] == 1]\n",
    "female = df[df['Sex'] == 0]\n",
    "\n",
    "male_likely = male[male[\"Output\"] == 1]\n",
    "male_non = male[male[\"Output\"] == 0]\n",
    "\n",
    "female_likely = female[female[\"Output\"] == 1]\n",
    "female_non = female[female[\"Output\"] == 0]\n",
    "\n",
    "fig, ax = plt.subplots(figsize=(9,6))\n",
    "\n",
    "ax.set_ylabel(\"Cholesterol\", fontsize=18,)\n",
    "ax.set_xlabel(\"Age\", fontsize=18,)\n",
    "ax.set_title(\"Cholesterol vs. Age By Gender\", fontsize=18, weight=\"heavy\")\n",
    "\n",
    "ax.scatter(x=male_likely[\"Age\"], y=male_likely[\"Chol\"], marker=\"x\", label=\"Male with Disease\", color=\"deepskyblue\")\n",
    "ax.scatter(x=male_non[\"Age\"], y=male_non[\"Chol\"], marker=\"o\", label=\"Male no Disease\", color=\"deepskyblue\")\n",
    "\n",
    "ax.scatter(x=female_likely[\"Age\"], y=female_likely[\"Chol\"], marker=\"x\", label=\"Female with Disease\", color=\"lightpink\")\n",
    "ax.scatter(x=female_non[\"Age\"], y=female_non[\"Chol\"],  marker=\"o\", label=\"Female no Disease\", color=\"lightpink\")\n",
    "\n",
    "ax.legend()"
   ]
  },
  {
   "cell_type": "markdown",
   "metadata": {},
   "source": [
    "# Resting Blood Pressure vs. Cholesterol By Heart Disease"
   ]
  },
  {
   "cell_type": "code",
   "execution_count": 26,
   "metadata": {},
   "outputs": [
    {
     "data": {
      "text/plain": [
       "<matplotlib.legend.Legend at 0x7fb28b92c8e0>"
      ]
     },
     "execution_count": 26,
     "metadata": {},
     "output_type": "execute_result"
    },
    {
     "data": {
      "image/png": "[encoded data removed]",
      "text/plain": [
       "<Figure size 648x432 with 1 Axes>"
      ]
     },
     "metadata": {
      "needs_background": "light"
     },
     "output_type": "display_data"
    }
   ],
   "source": [
    "disease = df[df[\"Output\"] == 1]\n",
    "no_disease = df[df[\"Output\"] == 0]\n",
    "\n",
    "fig, ax = plt.subplots(figsize=(9,6))\n",
    "\n",
    "ax.set_ylabel(\"Cholesterol\", fontsize=18,)\n",
    "ax.set_xlabel(\"Resting Blood Pressure\", fontsize=18,)\n",
    "ax.set_title(\"Resting Blood Pressure vs. Cholesterol By Heart Disease\", fontsize=18, weight=\"heavy\")\n",
    "\n",
    "ax.scatter(x=disease[\"Rest BP\"], y=disease[\"Chol\"], marker=\"x\", label=\"Heart Disease\", color=\"indianred\")\n",
    "ax.scatter(x=no_disease[\"Rest BP\"], y=no_disease[\"Chol\"],  marker=\".\", label=\"No Disease\", color=\"gray\")\n",
    "\n",
    "ax.legend()"
   ]
  },
  {
   "cell_type": "markdown",
   "metadata": {},
   "source": [
    "### We can then see that there isn't much of a correlation with these \"major\" factors\n",
    "- A simple Logistic Regression model that only takes these factors into account is only able to achieve an accuracy of ~53%"
   ]
  },
  {
   "cell_type": "code",
   "execution_count": 27,
   "metadata": {},
   "outputs": [
    {
     "data": {
      "text/plain": [
       "47.95"
      ]
     },
     "execution_count": 27,
     "metadata": {},
     "output_type": "execute_result"
    }
   ],
   "source": [
    "lr = LogisticRegression()\n",
    "lr.fit(train[[\"Chol\", \"Rest BP\"]], train[\"Output\"])\n",
    "(lr.score(test[[\"Chol\", \"Rest BP\"]], test[\"Output\"]) * 100).round(2)"
   ]
  },
  {
   "cell_type": "markdown",
   "metadata": {},
   "source": [
    "# Figure 2: K Means / PCA"
   ]
  },
  {
   "cell_type": "code",
   "execution_count": 28,
   "metadata": {},
   "outputs": [],
   "source": [
    "disease = df[df[\"Output\"] == 1]\n",
    "chol_bp = disease[[\"Rest BP\",\"Chol\"]]"
   ]
  },
  {
   "cell_type": "code",
   "execution_count": 39,
   "metadata": {},
   "outputs": [
    {
     "data": {
      "text/plain": [
       "array([3, 2, 3, 2, 0, 2, 2, 1, 2, 0, 0, 2, 1, 0, 3, 1, 2, 1, 2, 2, 1, 2,\n",
       "       2, 2, 0, 1, 0, 0, 3, 0, 1, 2, 2, 2, 2, 0, 2, 3, 3, 0, 2, 2, 3, 0,\n",
       "       0, 2, 2, 2, 1, 2, 1, 2, 1, 2, 2, 0, 1, 3, 2, 0, 1, 0, 3, 1, 2, 3,\n",
       "       3, 2, 1, 1, 1, 1, 1, 1, 3, 3, 0, 3, 0, 2, 1, 3, 3, 2, 1, 1, 1, 3,\n",
       "       1, 2, 0, 2, 2, 3, 2, 1, 2, 0, 0, 1, 0, 1, 1, 2, 2, 2, 2, 2, 0, 0,\n",
       "       2, 1, 0, 1, 0, 2, 0, 1, 0, 2, 1, 0, 0, 1, 3, 0, 0, 0, 0, 0, 2, 2,\n",
       "       0, 0, 2], dtype=int32)"
      ]
     },
     "execution_count": 39,
     "metadata": {},
     "output_type": "execute_result"
    }
   ],
   "source": [
    "km = KMeans(n_clusters=4)\n",
    "\n",
    "km.fit(chol_bp)\n",
    "clusters = km.predict(chol_bp)\n",
    "clusters"
   ]
  },
  {
   "cell_type": "code",
   "execution_count": 40,
   "metadata": {},
   "outputs": [
    {
     "data": {
      "text/plain": [
       "<AxesSubplot:xlabel='0', ylabel='1'>"
      ]
     },
     "execution_count": 40,
     "metadata": {},
     "output_type": "execute_result"
    },
    {
     "data": {
      "image/png": "[encoded data removed]",
      "text/plain": [
       "<Figure size 432x288 with 2 Axes>"
      ]
     },
     "metadata": {
      "needs_background": "light"
     },
     "output_type": "display_data"
    }
   ],
   "source": [
    "df[\"cluster\"] = pd.Series(clusters, index=chol_bp.index)\n",
    "ax = df.plot.scatter(x=\"Rest BP\", y=\"Chol\", c=df[\"cluster\"], cmap=\"tab10\")\n",
    "pd.DataFrame(km.cluster_centers_).plot.scatter(ax=ax, x=0, y=1, c=\"red\", s=100)"
   ]
  },
  {
   "cell_type": "markdown",
   "metadata": {},
   "source": [
    "# Figure 3: Logistic Regression\n",
    "- Using a sklearn pipeline, we are able to produce a solid score taking all factors into account"
   ]
  },
  {
   "cell_type": "code",
   "execution_count": 31,
   "metadata": {},
   "outputs": [
    {
     "data": {
      "text/plain": [
       "75.34"
      ]
     },
     "execution_count": 31,
     "metadata": {},
     "output_type": "execute_result"
    }
   ],
   "source": [
    "train = train.copy()\n",
    "test = test.copy()\n",
    "\n",
    "pipe = Pipeline([\n",
    "    (\"scaler\", StandardScaler()),\n",
    "    (\"lr\", LogisticRegression())\n",
    "])\n",
    "\n",
    "pipe.fit(train[data_columns], train[y])\n",
    "(pipe.score(test[data_columns], test[y]) * 100).round(2)"
   ]
  },
  {
   "cell_type": "code",
   "execution_count": 32,
   "metadata": {},
   "outputs": [
    {
     "data": {
      "text/plain": [
       "0.7233333333333333"
      ]
     },
     "execution_count": 32,
     "metadata": {},
     "output_type": "execute_result"
    }
   ],
   "source": [
    "cross_val_score(pipe, test[data_columns], test[y], cv=15).mean()"
   ]
  },
  {
   "cell_type": "code",
   "execution_count": 41,
   "metadata": {},
   "outputs": [],
   "source": [
    "# https://scikit-learn.org/stable/modules/generated/sklearn.model_selection.permutation_test_score.html\n",
    "score, garbage_score, p = permutation_test_score(pipe, test[data_columns], test[y])"
   ]
  },
  {
   "cell_type": "code",
   "execution_count": 42,
   "metadata": {},
   "outputs": [
    {
     "data": {
      "text/plain": [
       "<AxesSubplot:>"
      ]
     },
     "execution_count": 42,
     "metadata": {},
     "output_type": "execute_result"
    },
    {
     "data": {
      "image/png": "[encoded data removed]",
      "text/plain": [
       "<Figure size 432x288 with 1 Axes>"
      ]
     },
     "metadata": {
      "needs_background": "light"
     },
     "output_type": "display_data"
    }
   ],
   "source": [
    "pd.Series(garbage_score).hist(color=\"indianred\")"
   ]
  },
  {
   "cell_type": "code",
   "execution_count": 43,
   "metadata": {},
   "outputs": [
    {
     "data": {
      "text/plain": [
       "0.009900990099009901"
      ]
     },
     "execution_count": 43,
     "metadata": {},
     "output_type": "execute_result"
    }
   ],
   "source": [
    "p"
   ]
  },
  {
   "cell_type": "markdown",
   "metadata": {},
   "source": [
    "Taken from the documentation for permutation_test_score:\n",
    "\n",
    "\"A small p-value suggests that there is a real dependency between features and targets which has been used by the estimator to give good predictions.\"\n",
    "\n",
    "Thus, this test suggests that there is indeed a relationship between the features of this data and its target variable, and our model accurately reflects such relationship"
   ]
  },
  {
   "cell_type": "markdown",
   "metadata": {},
   "source": [
    "## Graphing Coefficients"
   ]
  },
  {
   "cell_type": "code",
   "execution_count": 36,
   "metadata": {},
   "outputs": [
    {
     "data": {
      "text/plain": [
       "[-0.12826353337110125,\n",
       " 0.37486638627868285,\n",
       " 0.7878001193833957,\n",
       " 0.44824512919554826,\n",
       " 0.5400751463593114,\n",
       " -0.19280523718099477,\n",
       " 0.2847871924013826,\n",
       " -0.5811489134658413,\n",
       " 0.45250611333947416,\n",
       " 0.19182226062226213,\n",
       " 0.40476371178074466,\n",
       " 0.9166905521433775,\n",
       " 0.7778616913431409]"
      ]
     },
     "execution_count": 36,
     "metadata": {},
     "output_type": "execute_result"
    }
   ],
   "source": [
    "coefs = list(pipe.named_steps['lr'].coef_[0])\n",
    "coefs"
   ]
  },
  {
   "cell_type": "code",
   "execution_count": 37,
   "metadata": {},
   "outputs": [
    {
     "data": {
      "image/png": "[encoded data removed]",
      "text/plain": [
       "<Figure size 1008x432 with 1 Axes>"
      ]
     },
     "metadata": {
      "needs_background": "light"
     },
     "output_type": "display_data"
    }
   ],
   "source": [
    "# https://matplotlib.org/stable/gallery/lines_bars_and_markers/bar_label_demo.html#sphx-glr-gallery-lines-bars-and-markers-bar-label-demo-py\n",
    "# https://stackoverflow.com/questions/10998621/rotate-axis-text-in-python-matplotlib\n",
    "\n",
    "fig, ax = plt.subplots(figsize=(14, 6))\n",
    "\n",
    "ax.axhline(0, color='k', linewidth=1)\n",
    "\n",
    "ax.set_ylabel(\"Coefficients\", fontsize=18)\n",
    "ax.set_xlabel(\"Feature\", fontsize=18)\n",
    "ax.set_title(\"Logistic Regression Coefficients by Feature\", fontsize=18, weight=\"heavy\")\n",
    "plt.xticks(rotation=45)\n",
    "\n",
    "bars = ax.bar(data_columns, height=coefs, color=\"indianred\")\n",
    "\n",
    "for bar in bars:\n",
    "    height = bar.get_height().round(2)\n",
    "    label_x_pos = bar.get_x() + bar.get_width() / 2\n",
    "    if height > 0:\n",
    "        ax.text(label_x_pos, height, s=f'{height}', ha='center',\n",
    "        va='bottom', fontsize=10)\n",
    "    else:\n",
    "        ax.text(label_x_pos, height, s=f'{height}', ha='center',\n",
    "        va='top', fontsize=10)\n",
    "    "
   ]
  },
  {
   "cell_type": "code",
   "execution_count": null,
   "metadata": {},
   "outputs": [],
   "source": []
  },
  {
   "cell_type": "code",
   "execution_count": null,
   "metadata": {},
   "outputs": [],
   "source": []
  }
 ],
 "metadata": {
  "kernelspec": {
   "display_name": "Python 3",
   "language": "python",
   "name": "python3"
  },
  "language_info": {
   "codemirror_mode": {
    "name": "ipython",
    "version": 3
   },
   "file_extension": ".py",
   "mimetype": "text/x-python",
   "name": "python",
   "nbconvert_exporter": "python",
   "pygments_lexer": "ipython3",
   "version": "3.8.5"
  }
 },
 "nbformat": 4,
 "nbformat_minor": 4
}
