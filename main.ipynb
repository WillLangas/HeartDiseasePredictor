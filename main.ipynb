{
 "cells": [
  {
   "cell_type": "code",
   "execution_count": 1,
   "id": "mature-music",
   "metadata": {},
   "outputs": [],
   "source": [
    "# project: p1\n",
    "# submitter: wlangas\n",
    "# partner: none\n",
    "# hours: 15"
   ]
  },
  {
   "cell_type": "code",
   "execution_count": 2,
   "id": "abstract-steam",
   "metadata": {},
   "outputs": [],
   "source": [
    "import matplotlib.pyplot as plt\n",
    "import pandas as pd\n",
    "from pandas import Series, DataFrame\n",
    "from subprocess import check_output\n",
    "import json, ast, os, random, time"
   ]
  },
  {
   "cell_type": "code",
   "execution_count": 3,
   "id": "amber-analyst",
   "metadata": {},
   "outputs": [
    {
     "data": {
      "text/plain": [
       "b'/home/wlangas/p1\\n'"
      ]
     },
     "execution_count": 3,
     "metadata": {},
     "output_type": "execute_result"
    }
   ],
   "source": [
    "check_output(\"pwd\", shell=True)"
   ]
  },
  {
   "cell_type": "code",
   "execution_count": 6,
   "id": "killing-revolution",
   "metadata": {},
   "outputs": [
    {
     "ename": "CalledProcessError",
     "evalue": "Command '['git', 'checkout', 'main']' returned non-zero exit status 128.",
     "output_type": "error",
     "traceback": [
      "\u001b[0;31m---------------------------------------------------------------------------\u001b[0m",
      "\u001b[0;31mCalledProcessError\u001b[0m                        Traceback (most recent call last)",
      "\u001b[0;32m<ipython-input-6-b2b346d960d1>\u001b[0m in \u001b[0;36m<module>\u001b[0;34m\u001b[0m\n\u001b[0;32m----> 1\u001b[0;31m \u001b[0mcheck_output\u001b[0m\u001b[0;34m(\u001b[0m\u001b[0;34m[\u001b[0m\u001b[0;34m\"git\"\u001b[0m\u001b[0;34m,\u001b[0m \u001b[0;34m\"checkout\"\u001b[0m\u001b[0;34m,\u001b[0m \u001b[0;34m\"main\"\u001b[0m\u001b[0;34m]\u001b[0m\u001b[0;34m,\u001b[0m \u001b[0mcwd\u001b[0m \u001b[0;34m=\u001b[0m \u001b[0;34m\"./repo\"\u001b[0m\u001b[0;34m)\u001b[0m\u001b[0;34m\u001b[0m\u001b[0;34m\u001b[0m\u001b[0m\n\u001b[0m",
      "\u001b[0;32m/usr/lib/python3.6/subprocess.py\u001b[0m in \u001b[0;36mcheck_output\u001b[0;34m(timeout, *popenargs, **kwargs)\u001b[0m\n\u001b[1;32m    354\u001b[0m \u001b[0;34m\u001b[0m\u001b[0m\n\u001b[1;32m    355\u001b[0m     return run(*popenargs, stdout=PIPE, timeout=timeout, check=True,\n\u001b[0;32m--> 356\u001b[0;31m                **kwargs).stdout\n\u001b[0m\u001b[1;32m    357\u001b[0m \u001b[0;34m\u001b[0m\u001b[0m\n\u001b[1;32m    358\u001b[0m \u001b[0;34m\u001b[0m\u001b[0m\n",
      "\u001b[0;32m/usr/lib/python3.6/subprocess.py\u001b[0m in \u001b[0;36mrun\u001b[0;34m(input, timeout, check, *popenargs, **kwargs)\u001b[0m\n\u001b[1;32m    436\u001b[0m         \u001b[0;32mif\u001b[0m \u001b[0mcheck\u001b[0m \u001b[0;32mand\u001b[0m \u001b[0mretcode\u001b[0m\u001b[0;34m:\u001b[0m\u001b[0;34m\u001b[0m\u001b[0;34m\u001b[0m\u001b[0m\n\u001b[1;32m    437\u001b[0m             raise CalledProcessError(retcode, process.args,\n\u001b[0;32m--> 438\u001b[0;31m                                      output=stdout, stderr=stderr)\n\u001b[0m\u001b[1;32m    439\u001b[0m     \u001b[0;32mreturn\u001b[0m \u001b[0mCompletedProcess\u001b[0m\u001b[0;34m(\u001b[0m\u001b[0mprocess\u001b[0m\u001b[0;34m.\u001b[0m\u001b[0margs\u001b[0m\u001b[0;34m,\u001b[0m \u001b[0mretcode\u001b[0m\u001b[0;34m,\u001b[0m \u001b[0mstdout\u001b[0m\u001b[0;34m,\u001b[0m \u001b[0mstderr\u001b[0m\u001b[0;34m)\u001b[0m\u001b[0;34m\u001b[0m\u001b[0;34m\u001b[0m\u001b[0m\n\u001b[1;32m    440\u001b[0m \u001b[0;34m\u001b[0m\u001b[0m\n",
      "\u001b[0;31mCalledProcessError\u001b[0m: Command '['git', 'checkout', 'main']' returned non-zero exit status 128."
     ]
    }
   ],
   "source": [
    "check_output([\"git\", \"checkout\", \"main\"], cwd = \"repo\")"
   ]
  },
  {
   "cell_type": "code",
   "execution_count": null,
   "id": "charming-fraction",
   "metadata": {},
   "outputs": [],
   "source": [
    "#q1\n",
    "git_log = str(check_output([\"git\", \"log\"], cwd = \"repo\"), encoding=\"utf-8\")\n",
    "commits = git_log.split()\n",
    "commit_count = 0\n",
    "\n",
    "for word in commits:\n",
    "    if word == \"commit\":\n",
    "        commit_count += 1\n",
    "        \n",
    "commit_count"
   ]
  },
  {
   "cell_type": "code",
   "execution_count": null,
   "id": "fifteen-matter",
   "metadata": {},
   "outputs": [],
   "source": [
    "#q2 - Git log, count number of commits by each author\n",
    "author_commits = {\"Steve\": 0, \"Ada\": 0, \"Linus\": 0}\n",
    "\n",
    "for word in commits:\n",
    "    try:\n",
    "        author_commits[word] += 1\n",
    "    except:\n",
    "        pass\n",
    "    \n",
    "author_commits"
   ]
  },
  {
   "cell_type": "code",
   "execution_count": null,
   "id": "directed-georgia",
   "metadata": {},
   "outputs": [],
   "source": [
    "#q3\n",
    "author_series = Series(author_commits)\n",
    "\n",
    "ax = author_series.plot.bar(color=\"k\", figsize=[3,3], ylabel=\"Commit Count\", fontsize=17)\n",
    "ax.spines[\"top\"].set_visible(False)\n",
    "ax.spines[\"right\"].set_visible(False)\n",
    "ax.set_yticks([0,1,2,3])\n",
    "ax.yaxis.label.set_size(17)"
   ]
  },
  {
   "cell_type": "code",
   "execution_count": null,
   "id": "finite-integrity",
   "metadata": {},
   "outputs": [],
   "source": [
    "#q4\n",
    "# https://stackoverflow.com/questions/3137094/how-to-count-lines-in-a-document\n",
    "commit_ids = list()\n",
    "for word in commits: #Pull out the 40 digit commit IDs\n",
    "    if len(word) == 40:\n",
    "        commit_ids.append(word)\n",
    "\n",
    "line_count = list()\n",
    "for git_id in commit_ids:\n",
    "    check_output([\"git\", \"checkout\", git_id], cwd=\"repo\")\n",
    "    line_count.append(str(check_output([\"wc\", \"-l\", \"wc.py\"], cwd=\"repo\")))\n",
    "    check_output([\"git\", \"checkout\", \"main\"], cwd = \"repo\")\n",
    "                      \n",
    "line_count\n",
    "for idx in range(len(line_count)):\n",
    "    line_count[idx] = int(line_count[idx][2:4])\n",
    "    \n",
    "line_count = line_count[::-1]\n",
    "line_count"
   ]
  },
  {
   "cell_type": "code",
   "execution_count": null,
   "id": "potential-casting",
   "metadata": {},
   "outputs": [],
   "source": [
    "#q5 - Graph previous list\n",
    "ser = pd.Series(line_count)\n",
    "\n",
    "ax2 = ser.plot.line(ylabel=\"Lines\", xlabel=\"Commit\")\n",
    "ax2.set_yticks([0,10,20,30,40])\n",
    "ax2.set_xticks([0,2,4,6])\n",
    "ax2.spines[\"top\"].set_visible(False)\n",
    "ax2.spines[\"right\"].set_visible(False)"
   ]
  },
  {
   "cell_type": "code",
   "execution_count": null,
   "id": "specified-banana",
   "metadata": {},
   "outputs": [],
   "source": [
    "# test inputs to exercise wc.py\n",
    "\n",
    "# expected result: {'X': 1, 'Y': 1, 'Z': 1}\n",
    "test1 = \"\"\"X Y Z\"\"\"\n",
    "\n",
    "# expected result: \n",
    "test2 = \"\"\"A B\n",
    "A C\n",
    "\"\"\"\n",
    "\n",
    "# expected result: {'A': 2, 'B': 1, 'C': 1}\n",
    "test3 = \"\"\"A B\n",
    "a c\n",
    "\"\"\""
   ]
  },
  {
   "cell_type": "code",
   "execution_count": null,
   "id": "caring-gateway",
   "metadata": {},
   "outputs": [],
   "source": [
    "#q6\n",
    "def run_wc(body, commit=None):\n",
    "    \n",
    "    f = open('test.txt', 'w')\n",
    "    f.write(body)\n",
    "    f.close()\n",
    "\n",
    "    # deal with the commit\n",
    "    if (commit == None):\n",
    "        check_output([\"git\", \"checkout\", \"main\"], cwd=\"repo\")\n",
    "    else:\n",
    "        check_output([\"git\", \"checkout\", commit], cwd=\"repo\")\n",
    "    \n",
    "    try:\n",
    "        test_txt = (check_output(\"pwd\", shell=True)).decode(\"utf-8\").replace(\"\\n\", \"\")\n",
    "        test_txt = os.path.join(test_txt, \"repo\")\n",
    "        \n",
    "        output = check_output([\"python3\", \"wc.py\", os.path.join(\"..\",\"test.txt\"), \"ALL\"], cwd=\"repo\")\n",
    "        output = output.decode(\"utf-8\").replace(\"\\n\", \"\").replace(\"  \",\" \").replace(\"\\\\\",\"\")\n",
    "        return json.loads(output)\n",
    "    except:      \n",
    "        return None\n",
    "                \n",
    "test1_result = run_wc(\"X Y Z\", None)\n",
    "test1_result"
   ]
  },
  {
   "cell_type": "code",
   "execution_count": null,
   "id": "answering-driving",
   "metadata": {},
   "outputs": [],
   "source": [
    "#q7\n",
    "test3_result = run_wc(\"A B a c\", None)\n",
    "test3_result"
   ]
  },
  {
   "cell_type": "code",
   "execution_count": null,
   "id": "quick-switzerland",
   "metadata": {},
   "outputs": [],
   "source": [
    "#q8\n",
    "author_log = list()\n",
    "for word in commits:\n",
    "    if word in [\"Steve\", \"Ada\", \"Linus\"]:\n",
    "        author_log.append(word)\n",
    "author_log\n",
    "\n",
    "def test_table(body, expected):\n",
    "\n",
    "    test_passes = list()\n",
    "    \n",
    "    test_txt = (check_output(\"pwd\", shell=True)).decode(\"utf-8\").replace(\"\\n\", \"\")\n",
    "    test_txt = os.path.join(test_txt, \"repo\")\n",
    "        \n",
    "    for commit in commit_ids:\n",
    "        try:\n",
    "            output = run_wc(body, commit)\n",
    "            \n",
    "            if (str(output) == str(expected)):\n",
    "                test_passes.append(True)\n",
    "            else:\n",
    "                test_passes.append(False)\n",
    "        except Exception as err: \n",
    "            #print(err)\n",
    "            test_passes.append(False)\n",
    "            \n",
    "    formatted_data = {\"commit\": commit_ids[::-1], \"author\": author_log[::-1], \"pass\": test_passes[::-1]}\n",
    "    result = pd.DataFrame(formatted_data)\n",
    "    \n",
    "    return result\n",
    "\n",
    "table1_result = test_table(test1, {'X': 1, 'Y': 1, 'Z': 1})\n",
    "table1_result"
   ]
  },
  {
   "cell_type": "code",
   "execution_count": null,
   "id": "productive-moldova",
   "metadata": {},
   "outputs": [],
   "source": [
    "#q9\n",
    "table2 = test_table(test2, {'A': 2, 'B': 1, 'C': 1})\n",
    "table2"
   ]
  },
  {
   "cell_type": "code",
   "execution_count": null,
   "id": "classical-baker",
   "metadata": {},
   "outputs": [],
   "source": [
    "#q10\n",
    "table3 = test_table(test3, {'A': 2, 'B': 1, 'C': 1})\n",
    "table3"
   ]
  },
  {
   "cell_type": "code",
   "execution_count": null,
   "id": "behavioral-symbol",
   "metadata": {},
   "outputs": [],
   "source": [
    "#I would assume the 3rd test is best for testing. This is because it has a greater range of inputs because\n",
    "# of the lowercase letters, which leads to one more instance being deemeds as a failure than test2, which is commit\n",
    "# 761627a3ad9ee681f27211326e9149f01764ceee by Linus"
   ]
  },
  {
   "cell_type": "code",
   "execution_count": null,
   "id": "stuck-semiconductor",
   "metadata": {},
   "outputs": [],
   "source": [
    "'''\n",
    "description: randomly generate input for wc.py and time how long it takes to run\n",
    "uniq_words: the function should randomly generate this many words and put them in a list\n",
    "total_words: the function should randomly sample this many words from the above list to produce an input string\n",
    "word_size: how many characters long each word should be\n",
    "commit: what version of wc.py to run on the random input\n",
    "return value: how many seconds it took to run wc.py (not counting the time to generate the input file)\n",
    "Hint: Try taking a look at the random module's choice function...   \n",
    "'''\n",
    "def time_run_sec(uniq_words, total_words, word_size=6, commit=None):\n",
    "    \n",
    "    #Generate uniq_words number of unique words and put in a list\n",
    "    letters = 'ABCDEFGHIJKLMNOPQRSTUVWXYZ'\n",
    "    uniq_list = list()\n",
    "    for idx in range(uniq_words):\n",
    "        curr_word = \"\"\n",
    "        for count in range(word_size):\n",
    "            curr_word += random.choice(letters)\n",
    "        uniq_list.append(curr_word)\n",
    "    \n",
    "    #Sample total_words number of words from the above list to produce an input string\n",
    "    input_string = \"\"\n",
    "    for idx in range(total_words):\n",
    "        input_string += random.choice(uniq_list) + \" \"\n",
    "        \n",
    "        \n",
    "    start_time = time.time()\n",
    "    run_wc(input_string, commit)\n",
    "    end_time = time.time()\n",
    "    \n",
    "    return end_time - start_time"
   ]
  },
  {
   "cell_type": "code",
   "execution_count": null,
   "id": "commercial-garlic",
   "metadata": {},
   "outputs": [],
   "source": [
    "versions = {\n",
    "    \"v0-baseline\": \"6f5ca9327e986315ffcacddce5d9d6195c0913b7\",\n",
    "    \"v1-open-once\": \"f37e610ce055a3d894baac2d9449e6eb77c72320\",\n",
    "    \"v2-pass-per-uniq\": \"c10b5a6cb4f06c96f6f221df2d5ec33af767d5c5\",\n",
    "    \"v3-single-pass\": \"4e4128313b8d5b5e5d04f2e8e585f64f7c5831a4\",\n",
    "}"
   ]
  },
  {
   "cell_type": "code",
   "execution_count": null,
   "id": "prostate-barrel",
   "metadata": {},
   "outputs": [],
   "source": [
    "#q11\n",
    "versions_list = list(versions.keys())\n",
    "exec_times = list()\n",
    "for version in versions_list:\n",
    "    exec_times.append(1000 * time_run_sec(100, 5000, commit=versions[version]))\n",
    "\n",
    "formatted_data = {\"Version\": versions_list, \"Exec Time (ms)\": exec_times}\n",
    "formatted_df = DataFrame(formatted_data)\n",
    "\n",
    "ax2 = formatted_df.plot.barh(color='k', legend=False, figsize=[3,2])\n",
    "ax2.set_xlabel(\"Exec Time (ms)\")\n",
    "ax2.set_yticklabels(versions_list)\n",
    "ax2.set_xscale('log')\n",
    "ax2.invert_yaxis()\n",
    "ax2.set_xticks([10,100,1000])\n",
    "ax2.spines[\"top\"].set_visible(False)\n",
    "ax2.spines[\"right\"].set_visible(False)"
   ]
  },
  {
   "cell_type": "code",
   "execution_count": null,
   "id": "present-folder",
   "metadata": {},
   "outputs": [],
   "source": [
    "#q12\n",
    "versions_list = list(versions.keys())\n",
    "exec_times = list()\n",
    "for version in versions_list:\n",
    "    exec_times.append(1000 * time_run_sec(1, 5000, commit=versions[version]))\n",
    "\n",
    "formatted_data = {\"Version\": versions_list, \"Exec Time (ms)\": exec_times}\n",
    "formatted_df = DataFrame(formatted_data)\n",
    "\n",
    "ax2 = formatted_df.plot.barh(color='k', legend=False, figsize=[3,2])\n",
    "ax2.set_xlabel(\"Exec Time (ms)\")\n",
    "ax2.set_yticklabels(versions_list)\n",
    "ax2.set_xscale('log')\n",
    "ax2.invert_yaxis()\n",
    "ax2.set_xticks([10,100,1000])\n",
    "ax2.spines[\"top\"].set_visible(False)\n",
    "ax2.spines[\"right\"].set_visible(False)"
   ]
  },
  {
   "cell_type": "code",
   "execution_count": null,
   "id": "first-minimum",
   "metadata": {},
   "outputs": [],
   "source": [
    "#q13\n",
    "\n",
    "list_percents = [10, 5, 1]\n",
    "list_total_words = [1000, 2000, 5000, 10000]\n",
    "\n",
    "def total_to_unique(version):\n",
    "    list_10 = list()\n",
    "    for num in list_total_words:\n",
    "        list_10.append(time_run_sec(int((0.1 * num)), num, commit=versions[version]))\n",
    "\n",
    "    list_5 = list()\n",
    "    for num in list_total_words:\n",
    "        list_5.append(time_run_sec(int((0.05 * num)), num, commit=versions[version]))\n",
    "\n",
    "    list_1 = list()\n",
    "    for num in list_total_words:\n",
    "        list_1.append(time_run_sec(int((0.01 * num)), num, commit=versions[version]))\n",
    "\n",
    "    formatted_data = {\"Total Words\": [1000, 2000, 5000, 10000], \"10\": list_10, \"5\": list_5, \"1\": list_1}\n",
    "    return pd.DataFrame(formatted_data)\n",
    "\n",
    "df_2 = total_to_unique(\"v2-pass-per-uniq\")\n",
    "fig, ax = plt.subplots(ncols=2, nrows=1, sharey=True, figsize=[10,4])\n",
    "\n",
    "df_2.plot.line(ax=ax[0],x=\"Total Words\", legend=False)\n",
    "ax[0].set_title(\"version 2\")\n",
    "ax[0].set_ylabel(\"Time (s)\")\n",
    "ax[0].set_xticks([0,2000,4000,6000,8000,10000])\n",
    "ax[0].set_yticks([0.1,0.2,0.3,0.4])\n",
    "\n",
    "df_3 = total_to_unique(\"v3-single-pass\")\n",
    "df_3.plot.line(ax=ax[1], x=\"Total Words\", legend=True)\n",
    "ax[1].set_title(\"version 3\")"
   ]
  },
  {
   "cell_type": "code",
   "execution_count": null,
   "id": "nuclear-pacific",
   "metadata": {},
   "outputs": [],
   "source": [
    "\"\"\"\n",
    "If repo is a Repo instance, calling repo.commit(...) should create a new Commit object, \n",
    "add the new Commit to some structures in the Repo (list and/or dict), and return the Commit.\n",
    "\n",
    "str(commit) on a Commit object should give something like 'A39DE2[Aarushi]: created the repo'.\n",
    "\n",
    "repo[????] should produce a Commit object. ???? could be an integer index, in which case 0 would be the first commit,\n",
    "1 would be the second, and -1 would be the last, etc.\n",
    "\n",
    "If ???? is a string, repo[????] should produce the Commit\"\"\"\n",
    "class Commit:\n",
    "    def __init__(self, commit_hex, author, message):\n",
    "        self.commit_hex = commit_hex\n",
    "        self.author = author\n",
    "        self.message = message\n",
    "        \n",
    "    def __str__(self):\n",
    "        return str(self.commit_hex + \"[\" + self.author + \"]: \" + self.message)"
   ]
  },
  {
   "cell_type": "code",
   "execution_count": null,
   "id": "cleared-vision",
   "metadata": {},
   "outputs": [],
   "source": [
    "class Repo:\n",
    "    def __init__(self):\n",
    "        self.commits = list()\n",
    "        self.commits_dict = dict()\n",
    "    \n",
    "    def commit(self, commit_hex, author, message):\n",
    "        new_commit = Commit(commit_hex, author, message)\n",
    "        self.commits.append(new_commit)\n",
    "        self.commits_dict[commit_hex] = new_commit\n",
    "        return new_commit\n",
    "    \n",
    "    def __getitem__(self, key):\n",
    "        if isinstance(key, int):\n",
    "            return self.commits[key]\n",
    "        else:\n",
    "            key = key.strip()\n",
    "            return self.commits_dict[key.upper()]"
   ]
  },
  {
   "cell_type": "code",
   "execution_count": null,
   "id": "understanding-jesus",
   "metadata": {},
   "outputs": [],
   "source": [
    "#q14\n",
    "repo = Repo()\n",
    "c1 = repo.commit(\"A39DE2\", \"Aarushi\", \"created the repo\")\n",
    "c2 = repo.commit(\"D1E9C5\", \"Ben\", \"wrote some code\")\n",
    "c3 = repo.commit(\"AA0912\", \"Emma\", \"added a readme\")\n",
    "c4 = repo.commit(\"B143D0\", \"Hunter\", \"made some tests\")\n",
    "c5 = repo.commit(\"F0148D\", \"Jaime\", \"fixed a bug\")\n",
    "c6 = repo.commit(\"B978EE\", \"Wendy\", \"optimized the code\")\n",
    "c1.commit_hex, c2.author, c3.message, c4.commit_hex, c5.author, c6.message"
   ]
  },
  {
   "cell_type": "code",
   "execution_count": null,
   "id": "macro-generic",
   "metadata": {},
   "outputs": [],
   "source": [
    "#q15\n",
    "str(c1), str(repo[1]), str(repo[-1])"
   ]
  },
  {
   "cell_type": "code",
   "execution_count": null,
   "id": "published-behalf",
   "metadata": {},
   "outputs": [],
   "source": [
    "#q16\n",
    "str(repo[\"F0148D\"]), str(repo[\"b143d0\"]), str(repo[\"  AA0912  \"])"
   ]
  }
 ],
 "metadata": {
  "kernelspec": {
   "display_name": "Python 3",
   "language": "python",
   "name": "python3"
  },
  "language_info": {
   "codemirror_mode": {
    "name": "ipython",
    "version": 3
   },
   "file_extension": ".py",
   "mimetype": "text/x-python",
   "name": "python",
   "nbconvert_exporter": "python",
   "pygments_lexer": "ipython3",
   "version": "3.6.9"
  }
 },
 "nbformat": 4,
 "nbformat_minor": 5
}
